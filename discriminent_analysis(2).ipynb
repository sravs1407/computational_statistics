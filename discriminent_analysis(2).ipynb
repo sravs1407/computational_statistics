{
  "nbformat": 4,
  "nbformat_minor": 0,
  "metadata": {
    "colab": {
      "provenance": [],
      "authorship_tag": "ABX9TyNWAC1I3YngZfFOC98+goga",
      "include_colab_link": true
    },
    "kernelspec": {
      "name": "python3",
      "display_name": "Python 3"
    },
    "language_info": {
      "name": "python"
    }
  },
  "cells": [
    {
      "cell_type": "markdown",
      "metadata": {
        "id": "view-in-github",
        "colab_type": "text"
      },
      "source": [
        "<a href=\"https://colab.research.google.com/github/sravs1407/computational_statistics/blob/main/discriminent_analysis(2).ipynb\" target=\"_parent\"><img src=\"https://colab.research.google.com/assets/colab-badge.svg\" alt=\"Open In Colab\"/></a>"
      ]
    },
    {
      "cell_type": "code",
      "execution_count": 1,
      "metadata": {
        "id": "LfSP70fPT7_1"
      },
      "outputs": [],
      "source": [
        "import pandas as pd\n",
        "import numpy as np"
      ]
    },
    {
      "cell_type": "code",
      "source": [
        "cur=[2.95,2.53,3.57,3.16,2.58,2.16,3.27]\n",
        "dia=[6.63,7.79,5.65,5.47,4.46,6.22,3.52]\n",
        "qua=[\"passed\",\"passed\",\"passed\",\"passed\",\"not passed\",\"not passed\",\"not passed\"]\n",
        "for i in range(len(qua)):\n",
        "  if qua[i]==\"passed\":\n",
        "    qua[i]=1\n",
        "  else:\n",
        "    qua[i]=2\n",
        "print(qua)\n",
        "x_t=[cur,dia]\n",
        "x_t=np.asarray(x_t)\n",
        "print(x_t)\n",
        "x=np.transpose(x_t)\n",
        "print(x)\n",
        "meanx=[np.mean(x_t[0]),np.mean(x_t[1])]\n",
        "print(meanx)\n",
        "x1=[]\n",
        "x2=[]\n",
        "for i in range(len(qua)):\n",
        "  if qua[i]==1:\n",
        "    x1.append([cur[i],dia[i]])\n",
        "  else:\n",
        "    x2.append([cur[i],dia[i]])\n",
        "x1=np.asarray(x1)\n",
        "x2=np.asarray(x2)\n",
        "print(x1,x2)\n",
        "x1_t=np.transpose(x1)\n",
        "x2_t=np.transpose(x2)\n",
        "print(x1_t)\n",
        "meanx1=[np.mean(x1_t[0]),np.mean(x1_t[1])]\n",
        "meanx2=[np.mean(x2_t[0]),np.mean(x2_t[1])]\n",
        "print(meanx1)\n",
        "print(meanx2)"
      ],
      "metadata": {
        "colab": {
          "base_uri": "https://localhost:8080/"
        },
        "id": "k8Be9hAIUP_0",
        "outputId": "d305e442-6d3c-4e4a-b7d7-00d351155423"
      },
      "execution_count": 19,
      "outputs": [
        {
          "output_type": "stream",
          "name": "stdout",
          "text": [
            "[1, 1, 1, 1, 2, 2, 2]\n",
            "[[2.95 2.53 3.57 3.16 2.58 2.16 3.27]\n",
            " [6.63 7.79 5.65 5.47 4.46 6.22 3.52]]\n",
            "[[2.95 6.63]\n",
            " [2.53 7.79]\n",
            " [3.57 5.65]\n",
            " [3.16 5.47]\n",
            " [2.58 4.46]\n",
            " [2.16 6.22]\n",
            " [3.27 3.52]]\n",
            "[2.888571428571429, 5.677142857142857]\n",
            "[[2.95 6.63]\n",
            " [2.53 7.79]\n",
            " [3.57 5.65]\n",
            " [3.16 5.47]] [[2.58 4.46]\n",
            " [2.16 6.22]\n",
            " [3.27 3.52]]\n",
            "[[2.95 2.53 3.57 3.16]\n",
            " [6.63 7.79 5.65 5.47]]\n",
            "[3.0525, 6.385]\n",
            "[2.67, 4.733333333333333]\n"
          ]
        }
      ]
    },
    {
      "cell_type": "code",
      "source": [
        "xsubu=[]\n",
        "for i in range(len(cur)):\n",
        "  xsubu.append([x_t[0][i]-meanx[0],x_t[1][i]-meanx[1]])\n",
        "xsubu=np.asarray(xsubu)\n",
        "print(xsubu)\n",
        "mat=np.matrix(xsubu)\n",
        "print(mat)\n",
        "num=np.matmul(np.transpose(mat),mat)\n",
        "c=num/len(cur)\n",
        "print(c)\n",
        "cinv=np.linalg.inv(c)\n",
        "print(cinv)"
      ],
      "metadata": {
        "colab": {
          "base_uri": "https://localhost:8080/"
        },
        "id": "SYY3HNDXadan",
        "outputId": "740e2ee8-fe08-4ba4-8f18-4bcae849ea84"
      },
      "execution_count": 32,
      "outputs": [
        {
          "output_type": "stream",
          "name": "stdout",
          "text": [
            "[[ 0.06142857  0.95285714]\n",
            " [-0.35857143  2.11285714]\n",
            " [ 0.68142857 -0.02714286]\n",
            " [ 0.27142857 -0.20714286]\n",
            " [-0.30857143 -1.21714286]\n",
            " [-0.72857143  0.54285714]\n",
            " [ 0.38142857 -2.15714286]]\n",
            "[[ 0.06142857  0.95285714]\n",
            " [-0.35857143  2.11285714]\n",
            " [ 0.68142857 -0.02714286]\n",
            " [ 0.27142857 -0.20714286]\n",
            " [-0.30857143 -1.21714286]\n",
            " [-0.72857143  0.54285714]\n",
            " [ 0.38142857 -2.15714286]]\n",
            "[[ 0.20598367 -0.23093265]\n",
            " [-0.23093265  1.69216327]]\n",
            "[[5.73171449 0.78221769]\n",
            " [0.78221769 0.69771022]]\n"
          ]
        }
      ]
    },
    {
      "cell_type": "code",
      "source": [
        "#f1\n",
        "mmeanx1=np.matrix(meanx1)\n",
        "mmeanx2=np.matrix(meanx2)\n",
        "xk=np.matrix([2.8,5.46])\n",
        "p1=np.matmul(np.matmul(mmeanx1,cinv),np.transpose(xk))\n",
        "p2=np.matmul(np.matmul(mmeanx1,cinv),np.transpose(mmeanx1))\n",
        "p2=p2/2\n",
        "print(p1-p2)\n",
        "import math\n",
        "f1=p1-p2+math.log(len(x1)/len(x))\n",
        "print(f1)"
      ],
      "metadata": {
        "colab": {
          "base_uri": "https://localhost:8080/"
        },
        "id": "XR5S9I7_eIIV",
        "outputId": "7e442e14-ac19-456c-bc4c-dde3901b4f4a"
      },
      "execution_count": 40,
      "outputs": [
        {
          "output_type": "stream",
          "name": "stdout",
          "text": [
            "[[44.1628916]]\n",
            "[[43.60327581]]\n"
          ]
        }
      ]
    },
    {
      "cell_type": "code",
      "source": [
        "#f2\n",
        "p3=np.matmul(np.matmul(mmeanx2,cinv),np.transpose(xk))\n",
        "p4=np.matmul(np.matmul(mmeanx2,cinv),np.transpose(mmeanx2))\n",
        "p4=p4/2\n",
        "f2=p3-p4+math.log(len(x2)/len(x))\n",
        "print(f2)"
      ],
      "metadata": {
        "colab": {
          "base_uri": "https://localhost:8080/"
        },
        "id": "FE6j4QgdiD79",
        "outputId": "00b6bc97-e32c-477a-b39a-db186b648ca5"
      },
      "execution_count": 41,
      "outputs": [
        {
          "output_type": "stream",
          "name": "stdout",
          "text": [
            "[[43.67295843]]\n"
          ]
        }
      ]
    },
    {
      "cell_type": "code",
      "source": [
        "if f2>f1:\n",
        "  print(\"new record goes to second group\")\n",
        "else:\n",
        "  print(\"new record goes to first group\")"
      ],
      "metadata": {
        "colab": {
          "base_uri": "https://localhost:8080/"
        },
        "id": "ztMy-dlwipjL",
        "outputId": "f642867d-f58b-4977-df22-5c072fe36a1a"
      },
      "execution_count": 42,
      "outputs": [
        {
          "output_type": "stream",
          "name": "stdout",
          "text": [
            "new record goes to second group\n"
          ]
        }
      ]
    }
  ]
}