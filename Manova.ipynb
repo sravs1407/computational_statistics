{
  "nbformat": 4,
  "nbformat_minor": 0,
  "metadata": {
    "colab": {
      "name": "Manova.ipynb",
      "provenance": [],
      "authorship_tag": "ABX9TyPiBdWiqiK/GPTZFcRCL7Ix",
      "include_colab_link": true
    },
    "kernelspec": {
      "name": "python3",
      "display_name": "Python 3"
    },
    "language_info": {
      "name": "python"
    }
  },
  "cells": [
    {
      "cell_type": "markdown",
      "metadata": {
        "id": "view-in-github",
        "colab_type": "text"
      },
      "source": [
        "<a href=\"https://colab.research.google.com/github/sravs1407/computational_statistics/blob/main/Manova.ipynb\" target=\"_parent\"><img src=\"https://colab.research.google.com/assets/colab-badge.svg\" alt=\"Open In Colab\"/></a>"
      ]
    },
    {
      "cell_type": "code",
      "execution_count": 1,
      "metadata": {
        "id": "xzcEwPyuLeoV"
      },
      "outputs": [],
      "source": [
        "import pandas as pd\n",
        "from scipy import  stats\n",
        "import scipy.stats\n",
        "import numpy as np"
      ]
    },
    {
      "cell_type": "code",
      "source": [
        "t11=np.asarray([9,3])\n",
        "t12=np.asarray([6,2])\n",
        "t13=np.asarray([9,7])\n",
        "t21=np.asarray([0,4])\n",
        "t22=np.asarray([2,0])\n",
        "t31=np.asarray([3,8])\n",
        "t32=np.asarray([1,9])\n",
        "t33=np.asarray([2,7])\n",
        "t1=[t11,t12,t13]\n",
        "t2=[t21,t22]\n",
        "t3=[t31,t32,t33]\n",
        "t1=np.asarray(t1)\n",
        "t2=np.asarray(t2)\n",
        "t3=np.asarray(t3)\n",
        "print(t3)\n",
        "lentr=3\n",
        "t4=[t1,t2,t3]\n",
        "print(t1[0])\n",
        "y1bar=[]\n",
        "y2bar=[]\n",
        "sum=0\n",
        "c=0\n",
        "s=0\n",
        "tot=0\n",
        "sum1=sum2=0\n",
        "for t in t4:\n",
        "  for j in range(len(t)):\n",
        "    sum+=t[j][c]\n",
        "    sum1+=sum\n",
        "    s+=t[j][c+1]\n",
        "    sum2+=s\n",
        "    tot+=(j+1)\n",
        "  y1bar.append(sum//(j+1))\n",
        "  y2bar.append(s//(j+1))\n",
        "  sum=0\n",
        "  s=0\n",
        "ybb=[]\n",
        "ybb.append(sum1//tot)\n",
        "ybb.append(sum2//tot)\n",
        "print(y1bar)\n",
        "print(y2bar)\n",
        "print(ybb)\n",
        "table={\"treatments\":[\"t1\",\"t2\",\"t3\"],\"values\":[t1,t2,t3],\"yibar\":[y1bar,y2bar,\"\"],\"ybb\":[\"\",ybb,\"\"]}\n",
        "table=pd.DataFrame(table)\n",
        "print(table)"
      ],
      "metadata": {
        "colab": {
          "base_uri": "https://localhost:8080/"
        },
        "id": "hgPn5KpEMDTc",
        "outputId": "baabbd1c-079d-4af6-eecb-5f20b6909bd8"
      },
      "execution_count": 2,
      "outputs": [
        {
          "output_type": "stream",
          "name": "stdout",
          "text": [
            "[[3 8]\n",
            " [1 9]\n",
            " [2 7]]\n",
            "[9 3]\n",
            "[8, 1, 2]\n",
            "[4, 2, 8]\n",
            "[4, 5]\n",
            "  treatments                    values      yibar     ybb\n",
            "0         t1  [[9, 3], [6, 2], [9, 7]]  [8, 1, 2]        \n",
            "1         t2          [[0, 4], [2, 0]]  [4, 2, 8]  [4, 5]\n",
            "2         t3  [[3, 8], [1, 9], [2, 7]]                   \n"
          ]
        }
      ]
    },
    {
      "cell_type": "code",
      "source": [
        "#FOR y1\n",
        "ssey1=0\n",
        "ssty1=0\n",
        "p=0\n",
        "for t in t4:\n",
        "  for j in range(len(t)):\n",
        "    ssey1+=(t[j][0]-y1bar[p])**2\n",
        "    ssty1+=(t[j][0]-ybb[0])**2\n",
        "  p+=1\n",
        "ssry1=ssty1-ssey1\n",
        "print(ssey1,ssty1,ssry1)"
      ],
      "metadata": {
        "colab": {
          "base_uri": "https://localhost:8080/"
        },
        "id": "jMLyTuL1dC8H",
        "outputId": "7255ee88-47b7-45e6-a0a0-10b4a842926e"
      },
      "execution_count": 22,
      "outputs": [
        {
          "output_type": "stream",
          "name": "stdout",
          "text": [
            "10 88 78\n"
          ]
        }
      ]
    },
    {
      "cell_type": "code",
      "source": [
        "#FOR y2\n",
        "ssey2=0\n",
        "ssty2=0\n",
        "p=0\n",
        "for t in t4:\n",
        "  for j in range(len(t)):\n",
        "    ssey2+=(t[j][1]-y2bar[p])**2\n",
        "    ssty2+=(t[j][1]-ybb[1])**2\n",
        "  p+=1\n",
        "ssry2=ssty2-ssey2\n",
        "print(ssey2,ssty2,ssry2)"
      ],
      "metadata": {
        "colab": {
          "base_uri": "https://localhost:8080/"
        },
        "id": "1_Y-QioxJsbq",
        "outputId": "30997850-e3a7-4867-eb04-5145c4dded11"
      },
      "execution_count": 23,
      "outputs": [
        {
          "output_type": "stream",
          "name": "stdout",
          "text": [
            "24 72 48\n"
          ]
        }
      ]
    },
    {
      "cell_type": "code",
      "source": [
        "#cross product of y1 and y2\n",
        "sse=sst=0\n",
        "p=0\n",
        "for t in t4:\n",
        "  for j in range(len(t)):\n",
        "    sse+=(t[j][0]*t[j][1]-y1bar[p]*y2bar[p])\n",
        "    sst+=(t[j][0]*t[j][1]-ybb[0]*ybb[1])\n",
        "  p+=1\n",
        "ssr=sst-sse\n",
        "print(sse,sst,ssr)"
      ],
      "metadata": {
        "colab": {
          "base_uri": "https://localhost:8080/"
        },
        "id": "GQTbv-k5LBZx",
        "outputId": "527f1dd5-3a93-449c-9605-c3fc8cbf5aaf"
      },
      "execution_count": 26,
      "outputs": [
        {
          "output_type": "stream",
          "name": "stdout",
          "text": [
            "1 -11 -12\n"
          ]
        }
      ]
    },
    {
      "cell_type": "code",
      "source": [
        "#monava table\n",
        "import math\n",
        "b=np.matrix([[ssry1,ssr],[ssr,ssry2]])\n",
        "w=np.matrix([[ssey1,sse],[sse,ssey2]])\n",
        "t=np.matrix([[ssty1,sst],[sst,ssty2]])\n",
        "df1=len(t4)-1\n",
        "df3=len(t4[0])+len(t4[1])+len(t4[2])-1\n",
        "df2=df3-df1\n",
        "wv=np.linalg.det(w)/np.linalg.det(t)\n",
        "f=((df2-1)/(df1))*((1-math.sqrt(wv))/math.sqrt(wv))\n",
        "monava_table={\"source of variation\":[\"regression\",\"error\",\"total\"],\"sum of squares\":[b,w,t],\"degrees of freedom\":[df1,df2,df3],\"wilks value\":[\"\",wv,\"\"],\"f-statistic\":[\"\",f,\"\"]}\n",
        "monava_table=pd.DataFrame(monava_table)\n",
        "print(monava_table)"
      ],
      "metadata": {
        "colab": {
          "base_uri": "https://localhost:8080/"
        },
        "id": "ke1wRDMHMqJz",
        "outputId": "5e6965fe-595c-4e69-8535-53c74b04d1a9"
      },
      "execution_count": 38,
      "outputs": [
        {
          "output_type": "stream",
          "name": "stdout",
          "text": [
            "  source of variation                      sum of squares  degrees of freedom  \\\n",
            "0          regression  [[[[[ 78 -12]]]], [[[[-12  48]]]]]                   2   \n",
            "1               error      [[[[[10  1]]]], [[[[ 1 24]]]]]                   5   \n",
            "2               total  [[[[[ 88 -11]]]], [[[[-11  72]]]]]                   7   \n",
            "\n",
            "  wilks value f-statistic  \n",
            "0                          \n",
            "1    0.038455     8.19886  \n",
            "2                          \n"
          ]
        }
      ]
    },
    {
      "cell_type": "code",
      "source": [
        "#inference\n",
        "tab_val=scipy.stats.f.ppf(1-0.05,df1,df2)\n",
        "print(tab_val)\n",
        "if(f>tab_val):\n",
        "  print(\"we reject h0\")\n",
        "else:\n",
        "  print(\"we accept h0\")"
      ],
      "metadata": {
        "colab": {
          "base_uri": "https://localhost:8080/"
        },
        "id": "l4UdItb5Tudr",
        "outputId": "e0d59b2b-c0f6-45d7-f700-ddcd1ae9f30d"
      },
      "execution_count": 40,
      "outputs": [
        {
          "output_type": "stream",
          "name": "stdout",
          "text": [
            "5.786135043349964\n",
            "we reject h0\n"
          ]
        }
      ]
    }
  ]
}