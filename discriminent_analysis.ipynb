{
  "nbformat": 4,
  "nbformat_minor": 0,
  "metadata": {
    "colab": {
      "provenance": [],
      "authorship_tag": "ABX9TyMV7Gd/PzcE3uPen0ToejAp",
      "include_colab_link": true
    },
    "kernelspec": {
      "name": "python3",
      "display_name": "Python 3"
    },
    "language_info": {
      "name": "python"
    }
  },
  "cells": [
    {
      "cell_type": "markdown",
      "metadata": {
        "id": "view-in-github",
        "colab_type": "text"
      },
      "source": [
        "<a href=\"https://colab.research.google.com/github/sravs1407/computational_statistics/blob/main/discriminent_analysis.ipynb\" target=\"_parent\"><img src=\"https://colab.research.google.com/assets/colab-badge.svg\" alt=\"Open In Colab\"/></a>"
      ]
    },
    {
      "cell_type": "code",
      "execution_count": 1,
      "metadata": {
        "id": "Gop9IkMsDP-l"
      },
      "outputs": [],
      "source": [
        "import pandas as pd\n",
        "from scipy import  stats\n",
        "import scipy.stats\n",
        "import numpy as np"
      ]
    },
    {
      "cell_type": "code",
      "source": [
        "sat=np.asarray([1300,1260,1220,1180,1060,1140,1100,1020,980,940])\n",
        "gpa=np.asarray([2.7,3.7,2.9,2.5,3.9,2.1,3.5,3.3,2.3,3.1])\n",
        "grad=[\"yes\",\"yes\",\"yes\",\"yes\",\"yes\",\"no\",\"no\",\"no\",\"no\",\"no\"]\n",
        "l=[1,1,1,1,1,1,1,1,1,1]\n",
        "for i in range(len(grad)):\n",
        "  if grad[i]==\"yes\":\n",
        "    grad[i]=1\n",
        "  else:\n",
        "    grad[i]=0\n",
        "y=np.matrix(grad)\n",
        "l=np.asarray(l)\n",
        "x=[sat,gpa]\n",
        "x.insert(0,l)\n",
        "x_t=np.matrix(x)\n",
        "x=np.transpose(x)\n",
        "y=np.transpose(y)\n",
        "print(y,x)\n",
        "xtx=np.matmul(x_t,x)\n",
        "xty=np.matmul(x_t,y)\n",
        "xtxinv=np.linalg.inv(xtx)\n",
        "b=np.matmul(xtxinv,xty)\n",
        "print(b)\n",
        "print(\"y=\",b[0],\"+\",b[1],\"*sat+\",b[2],\"*gpa\")"
      ],
      "metadata": {
        "colab": {
          "base_uri": "https://localhost:8080/"
        },
        "id": "hdybI1QdDyMh",
        "outputId": "98dd123a-e631-4648-eb48-529d5fb383af"
      },
      "execution_count": 51,
      "outputs": [
        {
          "output_type": "stream",
          "name": "stdout",
          "text": [
            "[[1]\n",
            " [1]\n",
            " [1]\n",
            " [1]\n",
            " [1]\n",
            " [0]\n",
            " [0]\n",
            " [0]\n",
            " [0]\n",
            " [0]] [[1.00e+00 1.30e+03 2.70e+00]\n",
            " [1.00e+00 1.26e+03 3.70e+00]\n",
            " [1.00e+00 1.22e+03 2.90e+00]\n",
            " [1.00e+00 1.18e+03 2.50e+00]\n",
            " [1.00e+00 1.06e+03 3.90e+00]\n",
            " [1.00e+00 1.14e+03 2.10e+00]\n",
            " [1.00e+00 1.10e+03 3.50e+00]\n",
            " [1.00e+00 1.02e+03 3.30e+00]\n",
            " [1.00e+00 9.80e+02 2.30e+00]\n",
            " [1.00e+00 9.40e+02 3.10e+00]]\n",
            "[[-3.83919635e+00]\n",
            " [ 3.23263173e-03]\n",
            " [ 2.39549603e-01]]\n",
            "y= [[-3.83919635]] + [[0.00323263]] *sat+ [[0.2395496]] *gpa\n"
          ]
        }
      ]
    },
    {
      "cell_type": "code",
      "source": [
        "s=1000\n",
        "g=2.9\n",
        "y1=b[0]+b[1]*s+b[2]*g\n",
        "print(y1)\n",
        "if y1>0.5:\n",
        "  print(\"incoming candidate is graduated\")\n",
        "else:\n",
        "  print(\"incoming candidate is not graduated\")"
      ],
      "metadata": {
        "colab": {
          "base_uri": "https://localhost:8080/"
        },
        "id": "hRVp2pJyQMNN",
        "outputId": "e92ee700-2c02-4e0f-afe9-22941a199fca"
      },
      "execution_count": 56,
      "outputs": [
        {
          "output_type": "stream",
          "name": "stdout",
          "text": [
            "[[0.08812923]]\n",
            "incoming candidate is not graduated\n"
          ]
        }
      ]
    }
  ]
}