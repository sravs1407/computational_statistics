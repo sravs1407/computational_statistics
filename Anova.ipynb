{
  "nbformat": 4,
  "nbformat_minor": 0,
  "metadata": {
    "colab": {
      "name": "Anova.ipynb",
      "provenance": [],
      "authorship_tag": "ABX9TyPDG/NZEoDQpp3B787rKkHn",
      "include_colab_link": true
    },
    "kernelspec": {
      "name": "python3",
      "display_name": "Python 3"
    },
    "language_info": {
      "name": "python"
    }
  },
  "cells": [
    {
      "cell_type": "markdown",
      "metadata": {
        "id": "view-in-github",
        "colab_type": "text"
      },
      "source": [
        "<a href=\"https://colab.research.google.com/github/sravs1407/computational_statistics/blob/main/Anova.ipynb\" target=\"_parent\"><img src=\"https://colab.research.google.com/assets/colab-badge.svg\" alt=\"Open In Colab\"/></a>"
      ]
    },
    {
      "cell_type": "code",
      "execution_count": null,
      "metadata": {
        "id": "LUHo3muKCRtC"
      },
      "outputs": [],
      "source": [
        "import pandas as pd"
      ]
    },
    {
      "cell_type": "code",
      "source": [
        "from scipy import  stats\n",
        "import scipy.stats"
      ],
      "metadata": {
        "id": "P7KJHCUeCkSC"
      },
      "execution_count": null,
      "outputs": []
    },
    {
      "cell_type": "code",
      "source": [
        "d=pd.read_excel(\"/content/mlr.xlsx\")"
      ],
      "metadata": {
        "id": "uBZFLKTUCuJa"
      },
      "execution_count": null,
      "outputs": []
    },
    {
      "cell_type": "code",
      "source": [
        "p=pd.DataFrame(d)\n",
        "p"
      ],
      "metadata": {
        "colab": {
          "base_uri": "https://localhost:8080/",
          "height": 269
        },
        "id": "WT-120Q3CyVS",
        "outputId": "1386ece2-b94b-403f-f713-c47ddfa22309"
      },
      "execution_count": null,
      "outputs": [
        {
          "output_type": "execute_result",
          "data": {
            "text/plain": [
              "   x1  x2   y\n",
              "0  -5   5  11\n",
              "1  -4   4  11\n",
              "2  -1   1   8\n",
              "3   2  -3   2\n",
              "4   2  -2   5\n",
              "5   3  -2   5\n",
              "6   3  -3   4"
            ],
            "text/html": [
              "\n",
              "  <div id=\"df-ce38582b-2287-4917-bdd6-fd2aba5702dd\">\n",
              "    <div class=\"colab-df-container\">\n",
              "      <div>\n",
              "<style scoped>\n",
              "    .dataframe tbody tr th:only-of-type {\n",
              "        vertical-align: middle;\n",
              "    }\n",
              "\n",
              "    .dataframe tbody tr th {\n",
              "        vertical-align: top;\n",
              "    }\n",
              "\n",
              "    .dataframe thead th {\n",
              "        text-align: right;\n",
              "    }\n",
              "</style>\n",
              "<table border=\"1\" class=\"dataframe\">\n",
              "  <thead>\n",
              "    <tr style=\"text-align: right;\">\n",
              "      <th></th>\n",
              "      <th>x1</th>\n",
              "      <th>x2</th>\n",
              "      <th>y</th>\n",
              "    </tr>\n",
              "  </thead>\n",
              "  <tbody>\n",
              "    <tr>\n",
              "      <th>0</th>\n",
              "      <td>-5</td>\n",
              "      <td>5</td>\n",
              "      <td>11</td>\n",
              "    </tr>\n",
              "    <tr>\n",
              "      <th>1</th>\n",
              "      <td>-4</td>\n",
              "      <td>4</td>\n",
              "      <td>11</td>\n",
              "    </tr>\n",
              "    <tr>\n",
              "      <th>2</th>\n",
              "      <td>-1</td>\n",
              "      <td>1</td>\n",
              "      <td>8</td>\n",
              "    </tr>\n",
              "    <tr>\n",
              "      <th>3</th>\n",
              "      <td>2</td>\n",
              "      <td>-3</td>\n",
              "      <td>2</td>\n",
              "    </tr>\n",
              "    <tr>\n",
              "      <th>4</th>\n",
              "      <td>2</td>\n",
              "      <td>-2</td>\n",
              "      <td>5</td>\n",
              "    </tr>\n",
              "    <tr>\n",
              "      <th>5</th>\n",
              "      <td>3</td>\n",
              "      <td>-2</td>\n",
              "      <td>5</td>\n",
              "    </tr>\n",
              "    <tr>\n",
              "      <th>6</th>\n",
              "      <td>3</td>\n",
              "      <td>-3</td>\n",
              "      <td>4</td>\n",
              "    </tr>\n",
              "  </tbody>\n",
              "</table>\n",
              "</div>\n",
              "      <button class=\"colab-df-convert\" onclick=\"convertToInteractive('df-ce38582b-2287-4917-bdd6-fd2aba5702dd')\"\n",
              "              title=\"Convert this dataframe to an interactive table.\"\n",
              "              style=\"display:none;\">\n",
              "        \n",
              "  <svg xmlns=\"http://www.w3.org/2000/svg\" height=\"24px\"viewBox=\"0 0 24 24\"\n",
              "       width=\"24px\">\n",
              "    <path d=\"M0 0h24v24H0V0z\" fill=\"none\"/>\n",
              "    <path d=\"M18.56 5.44l.94 2.06.94-2.06 2.06-.94-2.06-.94-.94-2.06-.94 2.06-2.06.94zm-11 1L8.5 8.5l.94-2.06 2.06-.94-2.06-.94L8.5 2.5l-.94 2.06-2.06.94zm10 10l.94 2.06.94-2.06 2.06-.94-2.06-.94-.94-2.06-.94 2.06-2.06.94z\"/><path d=\"M17.41 7.96l-1.37-1.37c-.4-.4-.92-.59-1.43-.59-.52 0-1.04.2-1.43.59L10.3 9.45l-7.72 7.72c-.78.78-.78 2.05 0 2.83L4 21.41c.39.39.9.59 1.41.59.51 0 1.02-.2 1.41-.59l7.78-7.78 2.81-2.81c.8-.78.8-2.07 0-2.86zM5.41 20L4 18.59l7.72-7.72 1.47 1.35L5.41 20z\"/>\n",
              "  </svg>\n",
              "      </button>\n",
              "      \n",
              "  <style>\n",
              "    .colab-df-container {\n",
              "      display:flex;\n",
              "      flex-wrap:wrap;\n",
              "      gap: 12px;\n",
              "    }\n",
              "\n",
              "    .colab-df-convert {\n",
              "      background-color: #E8F0FE;\n",
              "      border: none;\n",
              "      border-radius: 50%;\n",
              "      cursor: pointer;\n",
              "      display: none;\n",
              "      fill: #1967D2;\n",
              "      height: 32px;\n",
              "      padding: 0 0 0 0;\n",
              "      width: 32px;\n",
              "    }\n",
              "\n",
              "    .colab-df-convert:hover {\n",
              "      background-color: #E2EBFA;\n",
              "      box-shadow: 0px 1px 2px rgba(60, 64, 67, 0.3), 0px 1px 3px 1px rgba(60, 64, 67, 0.15);\n",
              "      fill: #174EA6;\n",
              "    }\n",
              "\n",
              "    [theme=dark] .colab-df-convert {\n",
              "      background-color: #3B4455;\n",
              "      fill: #D2E3FC;\n",
              "    }\n",
              "\n",
              "    [theme=dark] .colab-df-convert:hover {\n",
              "      background-color: #434B5C;\n",
              "      box-shadow: 0px 1px 3px 1px rgba(0, 0, 0, 0.15);\n",
              "      filter: drop-shadow(0px 1px 2px rgba(0, 0, 0, 0.3));\n",
              "      fill: #FFFFFF;\n",
              "    }\n",
              "  </style>\n",
              "\n",
              "      <script>\n",
              "        const buttonEl =\n",
              "          document.querySelector('#df-ce38582b-2287-4917-bdd6-fd2aba5702dd button.colab-df-convert');\n",
              "        buttonEl.style.display =\n",
              "          google.colab.kernel.accessAllowed ? 'block' : 'none';\n",
              "\n",
              "        async function convertToInteractive(key) {\n",
              "          const element = document.querySelector('#df-ce38582b-2287-4917-bdd6-fd2aba5702dd');\n",
              "          const dataTable =\n",
              "            await google.colab.kernel.invokeFunction('convertToInteractive',\n",
              "                                                     [key], {});\n",
              "          if (!dataTable) return;\n",
              "\n",
              "          const docLinkHtml = 'Like what you see? Visit the ' +\n",
              "            '<a target=\"_blank\" href=https://colab.research.google.com/notebooks/data_table.ipynb>data table notebook</a>'\n",
              "            + ' to learn more about interactive tables.';\n",
              "          element.innerHTML = '';\n",
              "          dataTable['output_type'] = 'display_data';\n",
              "          await google.colab.output.renderOutput(dataTable, element);\n",
              "          const docLink = document.createElement('div');\n",
              "          docLink.innerHTML = docLinkHtml;\n",
              "          element.appendChild(docLink);\n",
              "        }\n",
              "      </script>\n",
              "    </div>\n",
              "  </div>\n",
              "  "
            ]
          },
          "metadata": {},
          "execution_count": 24
        }
      ]
    },
    {
      "cell_type": "code",
      "source": [
        "import numpy as np\n",
        "Y=np.matrix(p['y']).reshape(len(p['y']),1)\n",
        "print(Y)\n",
        "p['c']=1\n",
        "print(p)"
      ],
      "metadata": {
        "colab": {
          "base_uri": "https://localhost:8080/"
        },
        "id": "lDuEa7_QC3jh",
        "outputId": "c8b5b136-30a2-4570-b6fb-45d4f141b59c"
      },
      "execution_count": null,
      "outputs": [
        {
          "output_type": "stream",
          "name": "stdout",
          "text": [
            "[[11]\n",
            " [11]\n",
            " [ 8]\n",
            " [ 2]\n",
            " [ 5]\n",
            " [ 5]\n",
            " [ 4]]\n",
            "   x1  x2   y  c\n",
            "0  -5   5  11  1\n",
            "1  -4   4  11  1\n",
            "2  -1   1   8  1\n",
            "3   2  -3   2  1\n",
            "4   2  -2   5  1\n",
            "5   3  -2   5  1\n",
            "6   3  -3   4  1\n",
            "0   -5\n",
            "1   -4\n",
            "2   -1\n",
            "3    2\n",
            "4    2\n",
            "5    3\n",
            "6    3\n",
            "Name: x1, dtype: int64\n"
          ]
        }
      ]
    },
    {
      "cell_type": "code",
      "source": [
        "Xt=np.matrix([p['c'],p['x1'],p['x2']])\n",
        "print(Xt)\n",
        "X=np.transpose(Xt)\n",
        "print(X)\n",
        "xtx=np.matmul(Xt,X)\n",
        "print(xtx)\n",
        "inv=np.linalg.inv(xtx)\n",
        "print(inv)\n",
        "xty=np.matmul(Xt,Y)\n",
        "print(xty)\n",
        "B=np.matmul(inv,xty)\n",
        "print(B)\n",
        "print(B[0,0])"
      ],
      "metadata": {
        "colab": {
          "base_uri": "https://localhost:8080/"
        },
        "id": "TMr5m3fXDdme",
        "outputId": "716d781e-49d5-48ec-8c5a-36c3d13b7d94"
      },
      "execution_count": null,
      "outputs": [
        {
          "output_type": "stream",
          "name": "stdout",
          "text": [
            "[[ 1  1  1  1  1  1  1]\n",
            " [-5 -4 -1  2  2  3  3]\n",
            " [ 5  4  1 -3 -2 -2 -3]]\n",
            "[[ 1 -5  5]\n",
            " [ 1 -4  4]\n",
            " [ 1 -1  1]\n",
            " [ 1  2 -3]\n",
            " [ 1  2 -2]\n",
            " [ 1  3 -2]\n",
            " [ 1  3 -3]]\n",
            "[[  7   0   0]\n",
            " [  0  68 -67]\n",
            " [  0 -67  68]]\n",
            "[[0.14285714 0.         0.        ]\n",
            " [0.         0.5037037  0.4962963 ]\n",
            " [0.         0.4962963  0.5037037 ]]\n",
            "[[ 46]\n",
            " [-66]\n",
            " [ 69]]\n",
            "[[6.57142857]\n",
            " [1.        ]\n",
            " [2.        ]]\n",
            "6.571428571428571\n"
          ]
        }
      ]
    },
    {
      "cell_type": "code",
      "source": [
        "y_fitted=B[0,0]+B[1,0]*p['x1']+B[2,0]*p['x2']\n",
        "y_fitted=list(y_fitted)\n",
        "p['y_fit']=y_fitted\n",
        "error=p['y']-p['y_fit']\n",
        "p['e']=error\n",
        "print(p)"
      ],
      "metadata": {
        "colab": {
          "base_uri": "https://localhost:8080/"
        },
        "id": "eFks2J10FuEF",
        "outputId": "503111d0-9d5b-437f-9d30-1fd3b79f5bfc"
      },
      "execution_count": null,
      "outputs": [
        {
          "output_type": "stream",
          "name": "stdout",
          "text": [
            "   x1  x2   y  c      y_fit         e\n",
            "0  -5   5  11  1  11.571429 -0.571429\n",
            "1  -4   4  11  1  10.571429  0.428571\n",
            "2  -1   1   8  1   7.571429  0.428571\n",
            "3   2  -3   2  1   2.571429 -0.571429\n",
            "4   2  -2   5  1   4.571429  0.428571\n",
            "5   3  -2   5  1   5.571429 -0.571429\n",
            "6   3  -3   4  1   3.571429  0.428571\n"
          ]
        }
      ]
    },
    {
      "cell_type": "code",
      "source": [
        "from re import S\n",
        "sse=list(p['e']*p['e'])\n",
        "sse=sum(sse)\n",
        "print(sse)\n",
        "y=p['y']\n",
        "ybar=np.mean(p['y'])\n",
        "print(ybar)\n",
        "sst=list((y-ybar)**2)\n",
        "sst=sum(sst)\n",
        "print(sst)\n",
        "ssr=sst-sse\n",
        "print(ssr)\n",
        "rsquare=ssr/sst\n",
        "print(rsquare)\n",
        "if(rsquare>0.90):\n",
        "  print(\"accept the model\")\n",
        "else:\n",
        "  print(\"reject the model\")"
      ],
      "metadata": {
        "colab": {
          "base_uri": "https://localhost:8080/"
        },
        "id": "tZwwOhWSFxck",
        "outputId": "665976af-dd1f-4b3a-842e-d594fae8e001"
      },
      "execution_count": null,
      "outputs": [
        {
          "output_type": "stream",
          "name": "stdout",
          "text": [
            "1.7142857142857142\n",
            "6.571428571428571\n",
            "73.71428571428571\n",
            "72.0\n",
            "0.9767441860465117\n",
            "accept the model\n"
          ]
        }
      ]
    },
    {
      "cell_type": "code",
      "source": [
        "#using anova\n",
        "df1=len(B)-1\n",
        "df2=len(y)-len(B)\n",
        "df3=df1+df2\n",
        "mssr=ssr/df1\n",
        "msse=sse/df2\n",
        "f=mssr/msse\n",
        "anova_table={\"source of variation\":[\"regression\",\"error\",\"total\"],\"sum of sqaures\":[ssr,sse,sst],\"degrees of freedom\":[df1,df2,df3],\"mean sum of squares\":[mssr,msse,\" \"],\"variance ratio\":[f,\"  \",\"  \"]}\n",
        "anova_table=pd.DataFrame(anova_table)\n",
        "print(anova_table)\n",
        "los=0.05\n",
        "f_tab=stats.f.ppf(1-los,df1,df2)\n",
        "print(f_tab)\n",
        "if(f>f_tab):\n",
        "  print(\"reject h0 but accept model based on anova\")\n",
        "else:\n",
        "  print(\"accept h0 but reject model based on anova\")"
      ],
      "metadata": {
        "colab": {
          "base_uri": "https://localhost:8080/"
        },
        "id": "dcpJa5c7F2WN",
        "outputId": "dd051d47-8985-4e68-ce3f-c4e8319e263a"
      },
      "execution_count": null,
      "outputs": [
        {
          "output_type": "stream",
          "name": "stdout",
          "text": [
            "  source of variation  sum of sqaures  degrees of freedom mean sum of squares  \\\n",
            "0          regression       72.000000                   2                36.0   \n",
            "1               error        1.714286                   4            0.428571   \n",
            "2               total       73.714286                   6                       \n",
            "\n",
            "  variance ratio  \n",
            "0           84.0  \n",
            "1                 \n",
            "2                 \n",
            "6.944271909999155\n",
            "reject h0 but accept model based on anova\n"
          ]
        }
      ]
    },
    {
      "cell_type": "code",
      "source": [
        "#test of individual parameters\n",
        "c11=inv[0,0]\n",
        "print(c11)\n",
        "c22=inv[1,1]\n",
        "print(c22)\n",
        "c33=inv[2,2]\n",
        "print(c33)\n",
        "msesquare=sum(p['e']**2)/df2\n",
        "print(msesquare)\n",
        "se1=np.sqrt(msesquare*c11)\n",
        "se2=np.sqrt(msesquare*c22)\n",
        "se3=np.sqrt(msesquare*c33)\n",
        "t1=B[0,0]/se1\n",
        "t2=B[1,0]/se2\n",
        "t3=B[2,0]/se3\n",
        "param_table={\"predictor\":[\"b0\",\"b1\",\"b2\"],\"coefficient\":[B[0,0],B[1,0],B[2,0]],\"standard error\":[se1,se2,se3],\"t\":[t1,t2,t3]}\n",
        "param_table=pd.DataFrame(param_table)\n",
        "print(param_table)"
      ],
      "metadata": {
        "colab": {
          "base_uri": "https://localhost:8080/"
        },
        "id": "g07fhzggF6cd",
        "outputId": "ee73dc71-fd73-43fd-a15a-2d2cf77a1452"
      },
      "execution_count": null,
      "outputs": [
        {
          "output_type": "stream",
          "name": "stdout",
          "text": [
            "0.14285714285714285\n",
            "0.5037037037037039\n",
            "0.5037037037037039\n",
            "0.42857142857142855\n",
            "  predictor  coefficient  standard error          t\n",
            "0        b0     6.571429        0.247436  26.558112\n",
            "1        b1     1.000000        0.464621   2.152290\n",
            "2        b2     2.000000        0.464621   4.304580\n"
          ]
        }
      ]
    },
    {
      "cell_type": "code",
      "source": [
        "t_tab=scipy.stats.t.ppf(1-los/2,df2)\n",
        "print(t_tab)\n",
        "if(abs(t1)>t_tab):\n",
        "  print(\"reject h0 and b0 is contributing to the model\")\n",
        "else:\n",
        "  print(\"accept h0 and b0 is not contributing to the model\")\n",
        "if(abs(t2)>t_tab):\n",
        "  print(\"reject h0 and b1 is contributing to the model\")\n",
        "else:\n",
        "  print(\"accept h0 and b1 is not contributing to the model\")\n",
        "if(abs(t3)>t_tab):\n",
        "  print(\"reject h0 and b2 is contributing to the model\")\n",
        "else:\n",
        "  print(\"accept h0 and b2 is not contributing to the model\")"
      ],
      "metadata": {
        "colab": {
          "base_uri": "https://localhost:8080/"
        },
        "id": "gtbmd5DHJteL",
        "outputId": "18bf166a-7c8c-4964-d2bf-2331da312a02"
      },
      "execution_count": null,
      "outputs": [
        {
          "output_type": "stream",
          "name": "stdout",
          "text": [
            "2.7764451051977987\n",
            "reject h0 and b0 is contributing to the model\n",
            "accept h0 and b1 is not contributing to the model\n",
            "reject h0 and b2 is contributing to the model\n"
          ]
        }
      ]
    }
  ]
}