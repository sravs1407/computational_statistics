{
 "cells": [
  {
   "cell_type": "code",
   "execution_count": 2,
   "id": "0c4796d6",
   "metadata": {},
   "outputs": [],
   "source": [
    "import pandas as pd"
   ]
  },
  {
   "cell_type": "code",
   "execution_count": 14,
   "id": "d8dd68aa",
   "metadata": {},
   "outputs": [],
   "source": [
    "d=pd.read_csv(\"C:\\\\Users\\\\y20cs170\\\\Desktop\\\\cs.csv\")"
   ]
  },
  {
   "cell_type": "code",
   "execution_count": 15,
   "id": "a89c2de7",
   "metadata": {},
   "outputs": [],
   "source": [
    "df=pd.DataFrame(d)"
   ]
  },
  {
   "cell_type": "code",
   "execution_count": 16,
   "id": "9d5004aa",
   "metadata": {},
   "outputs": [
    {
     "data": {
      "text/html": [
       "<div>\n",
       "<style scoped>\n",
       "    .dataframe tbody tr th:only-of-type {\n",
       "        vertical-align: middle;\n",
       "    }\n",
       "\n",
       "    .dataframe tbody tr th {\n",
       "        vertical-align: top;\n",
       "    }\n",
       "\n",
       "    .dataframe thead th {\n",
       "        text-align: right;\n",
       "    }\n",
       "</style>\n",
       "<table border=\"1\" class=\"dataframe\">\n",
       "  <thead>\n",
       "    <tr style=\"text-align: right;\">\n",
       "      <th></th>\n",
       "      <th>name</th>\n",
       "      <th>rollno</th>\n",
       "      <th>n1</th>\n",
       "      <th>n2</th>\n",
       "      <th>n3</th>\n",
       "    </tr>\n",
       "  </thead>\n",
       "  <tbody>\n",
       "    <tr>\n",
       "      <th>0</th>\n",
       "      <td>sravanthi</td>\n",
       "      <td>170</td>\n",
       "      <td>90</td>\n",
       "      <td>89</td>\n",
       "      <td>93</td>\n",
       "    </tr>\n",
       "    <tr>\n",
       "      <th>1</th>\n",
       "      <td>keerthi</td>\n",
       "      <td>142</td>\n",
       "      <td>89</td>\n",
       "      <td>95</td>\n",
       "      <td>97</td>\n",
       "    </tr>\n",
       "    <tr>\n",
       "      <th>2</th>\n",
       "      <td>divya</td>\n",
       "      <td>186</td>\n",
       "      <td>94</td>\n",
       "      <td>93</td>\n",
       "      <td>95</td>\n",
       "    </tr>\n",
       "    <tr>\n",
       "      <th>3</th>\n",
       "      <td>sufi</td>\n",
       "      <td>800</td>\n",
       "      <td>89</td>\n",
       "      <td>87</td>\n",
       "      <td>99</td>\n",
       "    </tr>\n",
       "  </tbody>\n",
       "</table>\n",
       "</div>"
      ],
      "text/plain": [
       "        name  rollno  n1  n2  n3\n",
       "0  sravanthi     170  90  89  93\n",
       "1    keerthi     142  89  95  97\n",
       "2      divya     186  94  93  95\n",
       "3       sufi     800  89  87  99"
      ]
     },
     "execution_count": 16,
     "metadata": {},
     "output_type": "execute_result"
    }
   ],
   "source": [
    "df"
   ]
  },
  {
   "cell_type": "code",
   "execution_count": 31,
   "id": "a0e5947b",
   "metadata": {},
   "outputs": [
    {
     "data": {
      "text/html": [
       "<div>\n",
       "<style scoped>\n",
       "    .dataframe tbody tr th:only-of-type {\n",
       "        vertical-align: middle;\n",
       "    }\n",
       "\n",
       "    .dataframe tbody tr th {\n",
       "        vertical-align: top;\n",
       "    }\n",
       "\n",
       "    .dataframe thead th {\n",
       "        text-align: right;\n",
       "    }\n",
       "</style>\n",
       "<table border=\"1\" class=\"dataframe\">\n",
       "  <thead>\n",
       "    <tr style=\"text-align: right;\">\n",
       "      <th></th>\n",
       "      <th>name</th>\n",
       "      <th>rollno</th>\n",
       "      <th>n1</th>\n",
       "      <th>n2</th>\n",
       "      <th>n3</th>\n",
       "      <th>sum</th>\n",
       "      <th>per</th>\n",
       "      <th>grade</th>\n",
       "      <th>(0, 2)</th>\n",
       "    </tr>\n",
       "  </thead>\n",
       "  <tbody>\n",
       "    <tr>\n",
       "      <th>0</th>\n",
       "      <td>sravanthi</td>\n",
       "      <td>170</td>\n",
       "      <td>90</td>\n",
       "      <td>89</td>\n",
       "      <td>93</td>\n",
       "      <td>272</td>\n",
       "      <td>90.666667</td>\n",
       "      <td>a</td>\n",
       "      <td>70</td>\n",
       "    </tr>\n",
       "    <tr>\n",
       "      <th>1</th>\n",
       "      <td>keerthi</td>\n",
       "      <td>142</td>\n",
       "      <td>89</td>\n",
       "      <td>95</td>\n",
       "      <td>97</td>\n",
       "      <td>281</td>\n",
       "      <td>93.666667</td>\n",
       "      <td>a</td>\n",
       "      <td>70</td>\n",
       "    </tr>\n",
       "    <tr>\n",
       "      <th>2</th>\n",
       "      <td>divya</td>\n",
       "      <td>186</td>\n",
       "      <td>94</td>\n",
       "      <td>93</td>\n",
       "      <td>95</td>\n",
       "      <td>282</td>\n",
       "      <td>94.000000</td>\n",
       "      <td>a</td>\n",
       "      <td>70</td>\n",
       "    </tr>\n",
       "    <tr>\n",
       "      <th>3</th>\n",
       "      <td>sufi</td>\n",
       "      <td>800</td>\n",
       "      <td>89</td>\n",
       "      <td>87</td>\n",
       "      <td>99</td>\n",
       "      <td>275</td>\n",
       "      <td>91.666667</td>\n",
       "      <td>a</td>\n",
       "      <td>70</td>\n",
       "    </tr>\n",
       "  </tbody>\n",
       "</table>\n",
       "</div>"
      ],
      "text/plain": [
       "        name  rollno  n1  n2  n3  sum        per grade  (0, 2)\n",
       "0  sravanthi     170  90  89  93  272  90.666667     a      70\n",
       "1    keerthi     142  89  95  97  281  93.666667     a      70\n",
       "2      divya     186  94  93  95  282  94.000000     a      70\n",
       "3       sufi     800  89  87  99  275  91.666667     a      70"
      ]
     },
     "execution_count": 31,
     "metadata": {},
     "output_type": "execute_result"
    }
   ],
   "source": [
    "df['sum']=df['n1']+df['n2']+df['n3']\n",
    "df"
   ]
  },
  {
   "cell_type": "code",
   "execution_count": 37,
   "id": "7a93061c",
   "metadata": {},
   "outputs": [],
   "source": [
    "df=df.drop(columns=[(0,2)])"
   ]
  },
  {
   "cell_type": "code",
   "execution_count": 41,
   "id": "f12b726a",
   "metadata": {},
   "outputs": [
    {
     "data": {
      "text/html": [
       "<div>\n",
       "<style scoped>\n",
       "    .dataframe tbody tr th:only-of-type {\n",
       "        vertical-align: middle;\n",
       "    }\n",
       "\n",
       "    .dataframe tbody tr th {\n",
       "        vertical-align: top;\n",
       "    }\n",
       "\n",
       "    .dataframe thead th {\n",
       "        text-align: right;\n",
       "    }\n",
       "</style>\n",
       "<table border=\"1\" class=\"dataframe\">\n",
       "  <thead>\n",
       "    <tr style=\"text-align: right;\">\n",
       "      <th></th>\n",
       "      <th>name</th>\n",
       "      <th>rollno</th>\n",
       "      <th>n1</th>\n",
       "      <th>n2</th>\n",
       "      <th>n3</th>\n",
       "      <th>sum</th>\n",
       "      <th>per</th>\n",
       "      <th>grade</th>\n",
       "    </tr>\n",
       "  </thead>\n",
       "  <tbody>\n",
       "    <tr>\n",
       "      <th>0</th>\n",
       "      <td>sravanthi</td>\n",
       "      <td>170</td>\n",
       "      <td>90</td>\n",
       "      <td>89</td>\n",
       "      <td>93</td>\n",
       "      <td>272</td>\n",
       "      <td>90.666667</td>\n",
       "      <td>a</td>\n",
       "    </tr>\n",
       "    <tr>\n",
       "      <th>1</th>\n",
       "      <td>keerthi</td>\n",
       "      <td>142</td>\n",
       "      <td>89</td>\n",
       "      <td>95</td>\n",
       "      <td>97</td>\n",
       "      <td>281</td>\n",
       "      <td>93.666667</td>\n",
       "      <td>a</td>\n",
       "    </tr>\n",
       "    <tr>\n",
       "      <th>2</th>\n",
       "      <td>divya</td>\n",
       "      <td>186</td>\n",
       "      <td>94</td>\n",
       "      <td>93</td>\n",
       "      <td>95</td>\n",
       "      <td>282</td>\n",
       "      <td>94.000000</td>\n",
       "      <td>a</td>\n",
       "    </tr>\n",
       "    <tr>\n",
       "      <th>3</th>\n",
       "      <td>sufi</td>\n",
       "      <td>800</td>\n",
       "      <td>89</td>\n",
       "      <td>87</td>\n",
       "      <td>99</td>\n",
       "      <td>275</td>\n",
       "      <td>91.666667</td>\n",
       "      <td>a</td>\n",
       "    </tr>\n",
       "  </tbody>\n",
       "</table>\n",
       "</div>"
      ],
      "text/plain": [
       "        name  rollno  n1  n2  n3  sum        per grade\n",
       "0  sravanthi     170  90  89  93  272  90.666667     a\n",
       "1    keerthi     142  89  95  97  281  93.666667     a\n",
       "2      divya     186  94  93  95  282  94.000000     a\n",
       "3       sufi     800  89  87  99  275  91.666667     a"
      ]
     },
     "execution_count": 41,
     "metadata": {},
     "output_type": "execute_result"
    }
   ],
   "source": [
    "df['per']=(df['sum']/300)*100\n",
    "df"
   ]
  },
  {
   "cell_type": "code",
   "execution_count": 42,
   "id": "04e063ae",
   "metadata": {},
   "outputs": [
    {
     "data": {
      "text/html": [
       "<div>\n",
       "<style scoped>\n",
       "    .dataframe tbody tr th:only-of-type {\n",
       "        vertical-align: middle;\n",
       "    }\n",
       "\n",
       "    .dataframe tbody tr th {\n",
       "        vertical-align: top;\n",
       "    }\n",
       "\n",
       "    .dataframe thead th {\n",
       "        text-align: right;\n",
       "    }\n",
       "</style>\n",
       "<table border=\"1\" class=\"dataframe\">\n",
       "  <thead>\n",
       "    <tr style=\"text-align: right;\">\n",
       "      <th></th>\n",
       "      <th>name</th>\n",
       "      <th>rollno</th>\n",
       "      <th>n1</th>\n",
       "      <th>n2</th>\n",
       "      <th>n3</th>\n",
       "      <th>sum</th>\n",
       "      <th>per</th>\n",
       "      <th>grade</th>\n",
       "    </tr>\n",
       "  </thead>\n",
       "  <tbody>\n",
       "    <tr>\n",
       "      <th>0</th>\n",
       "      <td>sravanthi</td>\n",
       "      <td>170</td>\n",
       "      <td>90</td>\n",
       "      <td>89</td>\n",
       "      <td>93</td>\n",
       "      <td>272</td>\n",
       "      <td>90.666667</td>\n",
       "      <td>a</td>\n",
       "    </tr>\n",
       "    <tr>\n",
       "      <th>1</th>\n",
       "      <td>keerthi</td>\n",
       "      <td>142</td>\n",
       "      <td>89</td>\n",
       "      <td>95</td>\n",
       "      <td>97</td>\n",
       "      <td>281</td>\n",
       "      <td>93.666667</td>\n",
       "      <td>a</td>\n",
       "    </tr>\n",
       "    <tr>\n",
       "      <th>2</th>\n",
       "      <td>divya</td>\n",
       "      <td>186</td>\n",
       "      <td>94</td>\n",
       "      <td>93</td>\n",
       "      <td>95</td>\n",
       "      <td>282</td>\n",
       "      <td>94.000000</td>\n",
       "      <td>a</td>\n",
       "    </tr>\n",
       "    <tr>\n",
       "      <th>3</th>\n",
       "      <td>sufi</td>\n",
       "      <td>800</td>\n",
       "      <td>89</td>\n",
       "      <td>87</td>\n",
       "      <td>99</td>\n",
       "      <td>275</td>\n",
       "      <td>91.666667</td>\n",
       "      <td>a</td>\n",
       "    </tr>\n",
       "  </tbody>\n",
       "</table>\n",
       "</div>"
      ],
      "text/plain": [
       "        name  rollno  n1  n2  n3  sum        per grade\n",
       "0  sravanthi     170  90  89  93  272  90.666667     a\n",
       "1    keerthi     142  89  95  97  281  93.666667     a\n",
       "2      divya     186  94  93  95  282  94.000000     a\n",
       "3       sufi     800  89  87  99  275  91.666667     a"
      ]
     },
     "execution_count": 42,
     "metadata": {},
     "output_type": "execute_result"
    }
   ],
   "source": [
    "df"
   ]
  },
  {
   "cell_type": "code",
   "execution_count": 43,
   "id": "ffd20a4a",
   "metadata": {},
   "outputs": [],
   "source": [
    "def grade(var):\n",
    "    if var>=90:\n",
    "        return 'a'\n",
    "    elif var>=80:\n",
    "        return 'b'\n",
    "    else:\n",
    "        return 'c'\n",
    "for i in range (4):\n",
    "    v=df.iat[i,6]\n",
    "    df.iat[i,7]=grade(v)\n",
    "        "
   ]
  },
  {
   "cell_type": "code",
   "execution_count": 44,
   "id": "a7d99fc3",
   "metadata": {},
   "outputs": [
    {
     "data": {
      "text/html": [
       "<div>\n",
       "<style scoped>\n",
       "    .dataframe tbody tr th:only-of-type {\n",
       "        vertical-align: middle;\n",
       "    }\n",
       "\n",
       "    .dataframe tbody tr th {\n",
       "        vertical-align: top;\n",
       "    }\n",
       "\n",
       "    .dataframe thead th {\n",
       "        text-align: right;\n",
       "    }\n",
       "</style>\n",
       "<table border=\"1\" class=\"dataframe\">\n",
       "  <thead>\n",
       "    <tr style=\"text-align: right;\">\n",
       "      <th></th>\n",
       "      <th>name</th>\n",
       "      <th>rollno</th>\n",
       "      <th>n1</th>\n",
       "      <th>n2</th>\n",
       "      <th>n3</th>\n",
       "      <th>sum</th>\n",
       "      <th>per</th>\n",
       "      <th>grade</th>\n",
       "    </tr>\n",
       "  </thead>\n",
       "  <tbody>\n",
       "    <tr>\n",
       "      <th>0</th>\n",
       "      <td>sravanthi</td>\n",
       "      <td>170</td>\n",
       "      <td>90</td>\n",
       "      <td>89</td>\n",
       "      <td>93</td>\n",
       "      <td>272</td>\n",
       "      <td>90.666667</td>\n",
       "      <td>a</td>\n",
       "    </tr>\n",
       "    <tr>\n",
       "      <th>1</th>\n",
       "      <td>keerthi</td>\n",
       "      <td>142</td>\n",
       "      <td>89</td>\n",
       "      <td>95</td>\n",
       "      <td>97</td>\n",
       "      <td>281</td>\n",
       "      <td>93.666667</td>\n",
       "      <td>a</td>\n",
       "    </tr>\n",
       "    <tr>\n",
       "      <th>2</th>\n",
       "      <td>divya</td>\n",
       "      <td>186</td>\n",
       "      <td>94</td>\n",
       "      <td>93</td>\n",
       "      <td>95</td>\n",
       "      <td>282</td>\n",
       "      <td>94.000000</td>\n",
       "      <td>a</td>\n",
       "    </tr>\n",
       "    <tr>\n",
       "      <th>3</th>\n",
       "      <td>sufi</td>\n",
       "      <td>800</td>\n",
       "      <td>89</td>\n",
       "      <td>87</td>\n",
       "      <td>99</td>\n",
       "      <td>275</td>\n",
       "      <td>91.666667</td>\n",
       "      <td>a</td>\n",
       "    </tr>\n",
       "  </tbody>\n",
       "</table>\n",
       "</div>"
      ],
      "text/plain": [
       "        name  rollno  n1  n2  n3  sum        per grade\n",
       "0  sravanthi     170  90  89  93  272  90.666667     a\n",
       "1    keerthi     142  89  95  97  281  93.666667     a\n",
       "2      divya     186  94  93  95  282  94.000000     a\n",
       "3       sufi     800  89  87  99  275  91.666667     a"
      ]
     },
     "execution_count": 44,
     "metadata": {},
     "output_type": "execute_result"
    }
   ],
   "source": [
    "df"
   ]
  },
  {
   "cell_type": "code",
   "execution_count": 48,
   "id": "c7a39ba8",
   "metadata": {},
   "outputs": [],
   "source": [
    "df.to_csv(r'C:\\\\Users\\\\y20cs170\\\\Desktop\\\\cs.csv')"
   ]
  },
  {
   "cell_type": "code",
   "execution_count": 66,
   "id": "50ca40d7",
   "metadata": {},
   "outputs": [],
   "source": [
    "p=pd.read_csv(\"C:\\\\Users\\\\y20cs170\\\\Desktop\\\\p1.csv\")"
   ]
  },
  {
   "cell_type": "code",
   "execution_count": 67,
   "id": "8b7be818",
   "metadata": {},
   "outputs": [
    {
     "data": {
      "text/html": [
       "<div>\n",
       "<style scoped>\n",
       "    .dataframe tbody tr th:only-of-type {\n",
       "        vertical-align: middle;\n",
       "    }\n",
       "\n",
       "    .dataframe tbody tr th {\n",
       "        vertical-align: top;\n",
       "    }\n",
       "\n",
       "    .dataframe thead th {\n",
       "        text-align: right;\n",
       "    }\n",
       "</style>\n",
       "<table border=\"1\" class=\"dataframe\">\n",
       "  <thead>\n",
       "    <tr style=\"text-align: right;\">\n",
       "      <th></th>\n",
       "      <th>col1</th>\n",
       "      <th>col2</th>\n",
       "    </tr>\n",
       "  </thead>\n",
       "  <tbody>\n",
       "    <tr>\n",
       "      <th>0</th>\n",
       "      <td>96</td>\n",
       "      <td>94</td>\n",
       "    </tr>\n",
       "    <tr>\n",
       "      <th>1</th>\n",
       "      <td>93</td>\n",
       "      <td>90</td>\n",
       "    </tr>\n",
       "    <tr>\n",
       "      <th>2</th>\n",
       "      <td>84</td>\n",
       "      <td>89</td>\n",
       "    </tr>\n",
       "    <tr>\n",
       "      <th>3</th>\n",
       "      <td>98</td>\n",
       "      <td>95</td>\n",
       "    </tr>\n",
       "    <tr>\n",
       "      <th>4</th>\n",
       "      <td>89</td>\n",
       "      <td>90</td>\n",
       "    </tr>\n",
       "    <tr>\n",
       "      <th>5</th>\n",
       "      <td>56</td>\n",
       "      <td>56</td>\n",
       "    </tr>\n",
       "    <tr>\n",
       "      <th>6</th>\n",
       "      <td>67</td>\n",
       "      <td>70</td>\n",
       "    </tr>\n",
       "    <tr>\n",
       "      <th>7</th>\n",
       "      <td>78</td>\n",
       "      <td>77</td>\n",
       "    </tr>\n",
       "  </tbody>\n",
       "</table>\n",
       "</div>"
      ],
      "text/plain": [
       "   col1  col2\n",
       "0    96    94\n",
       "1    93    90\n",
       "2    84    89\n",
       "3    98    95\n",
       "4    89    90\n",
       "5    56    56\n",
       "6    67    70\n",
       "7    78    77"
      ]
     },
     "execution_count": 67,
     "metadata": {},
     "output_type": "execute_result"
    }
   ],
   "source": [
    "p"
   ]
  },
  {
   "cell_type": "code",
   "execution_count": 68,
   "id": "4e5c82de",
   "metadata": {},
   "outputs": [],
   "source": [
    "x=p['col1']"
   ]
  },
  {
   "cell_type": "code",
   "execution_count": 69,
   "id": "dcf0e77b",
   "metadata": {},
   "outputs": [],
   "source": [
    "y=p['col2']"
   ]
  },
  {
   "cell_type": "code",
   "execution_count": 70,
   "id": "7a3d0b17",
   "metadata": {},
   "outputs": [
    {
     "name": "stdout",
     "output_type": "stream",
     "text": [
      "0.913629353031902\n",
      "7.136374705739102\n"
     ]
    }
   ],
   "source": [
    "def summation(l):\n",
    "    sum=0\n",
    "    for i in l:\n",
    "        sum=sum+i\n",
    "    return sum\n",
    "sumx=summation(x)\n",
    "sumy=summation(y)\n",
    "sumxx=summation(x*x)\n",
    "sumxy=summation(x*y)\n",
    "slope=((len(x)*sumxy)-(sumx*sumy))/((len(x)*sumxx)-(sumx)**2)\n",
    "print(slope)\n",
    "intercept=((sumxx*sumy)-(sumx*sumxy))/((len(x)*sumxx)-(sumx)**2)\n",
    "print(intercept)\n",
    "        "
   ]
  },
  {
   "cell_type": "code",
   "execution_count": 71,
   "id": "57048bf1",
   "metadata": {},
   "outputs": [
    {
     "name": "stdout",
     "output_type": "stream",
     "text": [
      "0    94.844793\n",
      "1    92.103905\n",
      "2    83.881240\n",
      "3    96.672051\n",
      "4    88.449387\n",
      "5    58.299618\n",
      "6    68.349541\n",
      "7    78.399464\n",
      "Name: col1, dtype: float64\n",
      "0    94\n",
      "1    90\n",
      "2    89\n",
      "3    95\n",
      "4    90\n",
      "5    56\n",
      "6    70\n",
      "7    77\n",
      "Name: col2, dtype: int64\n"
     ]
    }
   ],
   "source": [
    "yexp=slope*x+intercept\n",
    "ycal=p['col2']\n",
    "print(yexp)\n",
    "print(ycal)"
   ]
  },
  {
   "cell_type": "code",
   "execution_count": 72,
   "id": "4c0ad71e",
   "metadata": {},
   "outputs": [],
   "source": [
    "import matplotlib.pyplot as plt"
   ]
  },
  {
   "cell_type": "code",
   "execution_count": 74,
   "id": "227869ba",
   "metadata": {},
   "outputs": [
    {
     "data": {
      "image/png": "[encoded data removed]",
      "text/plain": [
       "<Figure size 432x288 with 1 Axes>"
      ]
     },
     "metadata": {
      "needs_background": "light"
     },
     "output_type": "display_data"
    }
   ],
   "source": [
    "plt.plot(x,ycal)\n",
    "plt.scatter(x,ycal)\n",
    "plt.plot(x,yexp)\n",
    "plt.scatter(x,yexp)\n",
    "plt.show()"
   ]
  },
  {
   "cell_type": "code",
   "execution_count": 77,
   "id": "fa7c2b8b",
   "metadata": {},
   "outputs": [
    {
     "name": "stdout",
     "output_type": "stream",
     "text": [
      "82.625\n",
      "82.625\n"
     ]
    }
   ],
   "source": [
    "meanx=sumx/len(x)\n",
    "print(meanx)\n",
    "meany=sumy/len(y)\n",
    "print(meany)"
   ]
  },
  {
   "cell_type": "code",
   "execution_count": 79,
   "id": "342504a0",
   "metadata": {},
   "outputs": [
    {
     "data": {
      "text/plain": [
       "0    13.375\n",
       "1    10.375\n",
       "2     1.375\n",
       "3    15.375\n",
       "4     6.375\n",
       "5   -26.625\n",
       "6   -15.625\n",
       "7    -4.625\n",
       "Name: col1, dtype: float64"
      ]
     },
     "execution_count": 79,
     "metadata": {},
     "output_type": "execute_result"
    }
   ],
   "source": [
    "covx=x-meanx\n",
    "covx"
   ]
  },
  {
   "cell_type": "code",
   "execution_count": 83,
   "id": "ce8d5584",
   "metadata": {},
   "outputs": [
    {
     "data": {
      "text/plain": [
       "0    11.375\n",
       "1     7.375\n",
       "2     6.375\n",
       "3    12.375\n",
       "4     7.375\n",
       "5   -26.625\n",
       "6   -12.625\n",
       "7    -5.625\n",
       "Name: col2, dtype: float64"
      ]
     },
     "execution_count": 83,
     "metadata": {},
     "output_type": "execute_result"
    }
   ],
   "source": [
    "covy=y-meany\n",
    "covy"
   ]
  },
  {
   "cell_type": "code",
   "execution_count": 86,
   "id": "03ee7b66",
   "metadata": {},
   "outputs": [],
   "source": [
    "cov=summation(covx*covy)"
   ]
  },
  {
   "cell_type": "code",
   "execution_count": 87,
   "id": "4213e3d2",
   "metadata": {},
   "outputs": [
    {
     "data": {
      "text/plain": [
       "1406.875"
      ]
     },
     "execution_count": 87,
     "metadata": {},
     "output_type": "execute_result"
    }
   ],
   "source": [
    "cov"
   ]
  },
  {
   "cell_type": "code",
   "execution_count": 88,
   "id": "5b209310",
   "metadata": {},
   "outputs": [],
   "source": [
    "denx=summation(covx*covx)"
   ]
  },
  {
   "cell_type": "code",
   "execution_count": 89,
   "id": "5e708994",
   "metadata": {},
   "outputs": [],
   "source": [
    "deny=summation(covy*covy)"
   ]
  },
  {
   "cell_type": "code",
   "execution_count": 90,
   "id": "d41d4bc2",
   "metadata": {},
   "outputs": [
    {
     "name": "stdout",
     "output_type": "stream",
     "text": [
      "1539.875\n",
      "1331.875\n"
     ]
    }
   ],
   "source": [
    "print(denx)\n",
    "print(deny)"
   ]
  },
  {
   "cell_type": "code",
   "execution_count": 91,
   "id": "1b8eb59d",
   "metadata": {},
   "outputs": [],
   "source": [
    "import math"
   ]
  },
  {
   "cell_type": "code",
   "execution_count": 93,
   "id": "b1a88827",
   "metadata": {},
   "outputs": [
    {
     "name": "stdout",
     "output_type": "stream",
     "text": [
      "1432.1037028179908\n",
      "0.9823834665266575\n"
     ]
    }
   ],
   "source": [
    "den=math.sqrt(denx)*math.sqrt(deny)\n",
    "print(den)\n",
    "out=cov/den\n",
    "print(out)"
   ]
  },
  {
   "cell_type": "code",
   "execution_count": null,
   "id": "228a64cf",
   "metadata": {},
   "outputs": [],
   "source": []
  }
 ],
 "metadata": {
  "kernelspec": {
   "display_name": "Python 3 (ipykernel)",
   "language": "python",
   "name": "python3"
  },
  "language_info": {
   "codemirror_mode": {
    "name": "ipython",
    "version": 3
   },
   "file_extension": ".py",
   "mimetype": "text/x-python",
   "name": "python",
   "nbconvert_exporter": "python",
   "pygments_lexer": "ipython3",
   "version": "3.9.7"
  }
 },
 "nbformat": 4,
 "nbformat_minor": 5
}
